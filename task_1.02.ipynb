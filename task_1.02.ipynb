{
 "cells": [
  {
   "cell_type": "markdown",
   "metadata": {},
   "source": [
    "# Tasks list for lesson 1.02\n",
    "\n",
    "Today’s dataset is a sample from the training data, for all the people who have donated to \"Healthcare for All\".\n",
    "\n",
    "Instead of having all the features from the training data, we have a subset of only a few features. The objective of this sample dataset is to teach students some important steps in data blending and cleaning, tasks critical for a subsequent linear regression that predicts the target variable `TARGET_D` (we'll see this in other units).\n",
    "\n",
    "\n",
    "### Scenario\n",
    "\n",
    "Data is provided to the analyst in four different Excel files named file1, file2, file3, and file4. Data is downloaded from a server at some frequent intervals and stored into different files. All the files have the same data recorder, ie. the same headers.\n",
    "\n",
    "We will need to merge all this data together into one file before we start with any other operation on the data.\n",
    "\n",
    "There is another file that contains other data such as date of birth, domain, and `TARGET_D`.\n",
    "\n",
    "Use the Date of birth column to find the age.\n",
    "\n",
    "Use `vlook_up` from the file `vlookup_table.csv`, using the column `CONTROLN` to add the column `TARGET_D` to the previous merged data\n",
    "\n",
    "As an exercise, split the column `Domain` and use `vlook_up` from the file `vlookup_table.csv` to check which kind of neighborhood they live in (ie. urban, city, town, rural, etc.).\n",
    "\n",
    "After merging all the data together, start with the data cleaning operations as mentioned in the lesson."
   ]
  },
  {
   "cell_type": "markdown",
   "metadata": {},
   "source": [
    "### Leemos los ficheros de entrada con la librería Pandas"
   ]
  },
  {
   "cell_type": "code",
   "execution_count": 1,
   "metadata": {},
   "outputs": [],
   "source": [
    "import pandas as pd"
   ]
  },
  {
   "cell_type": "code",
   "execution_count": 2,
   "metadata": {},
   "outputs": [],
   "source": [
    "df1 = pd.read_excel(\"file1.xlsx\", engine='openpyxl') # quizás tengáis que instalar otra libreria llamada openpyxl (conda install -c anaconda openpyxl)"
   ]
  },
  {
   "cell_type": "code",
   "execution_count": 3,
   "metadata": {},
   "outputs": [],
   "source": [
    "df1 = df1.loc[:, ~df1.columns.str.contains('^Unnamed')] # borramos las columnas que han aparecido como Unnamed por irrelevantes"
   ]
  },
  {
   "cell_type": "code",
   "execution_count": 11,
   "metadata": {},
   "outputs": [
    {
     "data": {
      "text/html": [
       "<div>\n",
       "<style scoped>\n",
       "    .dataframe tbody tr th:only-of-type {\n",
       "        vertical-align: middle;\n",
       "    }\n",
       "\n",
       "    .dataframe tbody tr th {\n",
       "        vertical-align: top;\n",
       "    }\n",
       "\n",
       "    .dataframe thead th {\n",
       "        text-align: right;\n",
       "    }\n",
       "</style>\n",
       "<table border=\"1\" class=\"dataframe\">\n",
       "  <thead>\n",
       "    <tr style=\"text-align: right;\">\n",
       "      <th></th>\n",
       "      <th>CONTROLN</th>\n",
       "      <th>STATE</th>\n",
       "      <th>GENDER</th>\n",
       "      <th>HV1</th>\n",
       "      <th>IC1</th>\n",
       "      <th>IC4</th>\n",
       "      <th>HVP1</th>\n",
       "      <th>IC5</th>\n",
       "      <th>POBC1</th>\n",
       "      <th>POBC2</th>\n",
       "      <th>IC2</th>\n",
       "      <th>IC3</th>\n",
       "      <th>AVGGIFT</th>\n",
       "    </tr>\n",
       "  </thead>\n",
       "  <tbody>\n",
       "    <tr>\n",
       "      <th>0</th>\n",
       "      <td>44060</td>\n",
       "      <td>FL</td>\n",
       "      <td>M</td>\n",
       "      <td>AAA896</td>\n",
       "      <td>392</td>\n",
       "      <td>520.0</td>\n",
       "      <td>7</td>\n",
       "      <td>21975</td>\n",
       "      <td>6</td>\n",
       "      <td>16</td>\n",
       "      <td>430.0</td>\n",
       "      <td>466</td>\n",
       "      <td>28.000000</td>\n",
       "    </tr>\n",
       "    <tr>\n",
       "      <th>1</th>\n",
       "      <td>96093</td>\n",
       "      <td>IL</td>\n",
       "      <td>M</td>\n",
       "      <td>537</td>\n",
       "      <td>365</td>\n",
       "      <td>473.0</td>\n",
       "      <td>0</td>\n",
       "      <td>19387</td>\n",
       "      <td>1</td>\n",
       "      <td>89</td>\n",
       "      <td>415.0</td>\n",
       "      <td>410</td>\n",
       "      <td>5.666667</td>\n",
       "    </tr>\n",
       "    <tr>\n",
       "      <th>2</th>\n",
       "      <td>43333</td>\n",
       "      <td>FL</td>\n",
       "      <td>F</td>\n",
       "      <td>725</td>\n",
       "      <td>301</td>\n",
       "      <td>436.0</td>\n",
       "      <td>3</td>\n",
       "      <td>18837</td>\n",
       "      <td>11</td>\n",
       "      <td>17</td>\n",
       "      <td>340.0</td>\n",
       "      <td>361</td>\n",
       "      <td>4.111111</td>\n",
       "    </tr>\n",
       "    <tr>\n",
       "      <th>3</th>\n",
       "      <td>21885</td>\n",
       "      <td>NC</td>\n",
       "      <td>M</td>\n",
       "      <td>AAA1095</td>\n",
       "      <td>401</td>\n",
       "      <td>413.0</td>\n",
       "      <td>7</td>\n",
       "      <td>14014</td>\n",
       "      <td>1</td>\n",
       "      <td>74</td>\n",
       "      <td>407.0</td>\n",
       "      <td>399</td>\n",
       "      <td>27.277778</td>\n",
       "    </tr>\n",
       "    <tr>\n",
       "      <th>4</th>\n",
       "      <td>190108</td>\n",
       "      <td>FL</td>\n",
       "      <td>F</td>\n",
       "      <td>995</td>\n",
       "      <td>252</td>\n",
       "      <td>348.0</td>\n",
       "      <td>0</td>\n",
       "      <td>17991</td>\n",
       "      <td>5</td>\n",
       "      <td>6</td>\n",
       "      <td>280.0</td>\n",
       "      <td>316</td>\n",
       "      <td>6.000000</td>\n",
       "    </tr>\n",
       "    <tr>\n",
       "      <th>...</th>\n",
       "      <td>...</td>\n",
       "      <td>...</td>\n",
       "      <td>...</td>\n",
       "      <td>...</td>\n",
       "      <td>...</td>\n",
       "      <td>...</td>\n",
       "      <td>...</td>\n",
       "      <td>...</td>\n",
       "      <td>...</td>\n",
       "      <td>...</td>\n",
       "      <td>...</td>\n",
       "      <td>...</td>\n",
       "      <td>...</td>\n",
       "    </tr>\n",
       "    <tr>\n",
       "      <th>1002</th>\n",
       "      <td>114721</td>\n",
       "      <td>OK</td>\n",
       "      <td>NaN</td>\n",
       "      <td>1040</td>\n",
       "      <td>472</td>\n",
       "      <td>656.0</td>\n",
       "      <td>0</td>\n",
       "      <td>26962</td>\n",
       "      <td>2</td>\n",
       "      <td>56</td>\n",
       "      <td>609.0</td>\n",
       "      <td>579</td>\n",
       "      <td>11.666667</td>\n",
       "    </tr>\n",
       "    <tr>\n",
       "      <th>1003</th>\n",
       "      <td>149152</td>\n",
       "      <td>CA</td>\n",
       "      <td>M</td>\n",
       "      <td>4507</td>\n",
       "      <td>842</td>\n",
       "      <td>962.0</td>\n",
       "      <td>95</td>\n",
       "      <td>54642</td>\n",
       "      <td>17</td>\n",
       "      <td>50</td>\n",
       "      <td>1004.0</td>\n",
       "      <td>893</td>\n",
       "      <td>20.000000</td>\n",
       "    </tr>\n",
       "    <tr>\n",
       "      <th>1004</th>\n",
       "      <td>959</td>\n",
       "      <td>IA</td>\n",
       "      <td>F</td>\n",
       "      <td>586</td>\n",
       "      <td>349</td>\n",
       "      <td>465.0</td>\n",
       "      <td>1</td>\n",
       "      <td>15304</td>\n",
       "      <td>1</td>\n",
       "      <td>77</td>\n",
       "      <td>413.0</td>\n",
       "      <td>404</td>\n",
       "      <td>7.300000</td>\n",
       "    </tr>\n",
       "    <tr>\n",
       "      <th>1005</th>\n",
       "      <td>179563</td>\n",
       "      <td>WA</td>\n",
       "      <td>male</td>\n",
       "      <td>842</td>\n",
       "      <td>420</td>\n",
       "      <td>494.0</td>\n",
       "      <td>2</td>\n",
       "      <td>12894</td>\n",
       "      <td>41</td>\n",
       "      <td>24</td>\n",
       "      <td>419.0</td>\n",
       "      <td>476</td>\n",
       "      <td>16.400000</td>\n",
       "    </tr>\n",
       "    <tr>\n",
       "      <th>1006</th>\n",
       "      <td>41243</td>\n",
       "      <td>FL</td>\n",
       "      <td>F</td>\n",
       "      <td>556</td>\n",
       "      <td>246</td>\n",
       "      <td>330.0</td>\n",
       "      <td>0</td>\n",
       "      <td>10272</td>\n",
       "      <td>2</td>\n",
       "      <td>56</td>\n",
       "      <td>277.0</td>\n",
       "      <td>292</td>\n",
       "      <td>9.818182</td>\n",
       "    </tr>\n",
       "  </tbody>\n",
       "</table>\n",
       "<p>1007 rows × 13 columns</p>\n",
       "</div>"
      ],
      "text/plain": [
       "      CONTROLN STATE GENDER      HV1  IC1    IC4  HVP1    IC5  POBC1  POBC2  \\\n",
       "0        44060    FL      M   AAA896  392  520.0     7  21975      6     16   \n",
       "1        96093    IL      M      537  365  473.0     0  19387      1     89   \n",
       "2        43333    FL      F      725  301  436.0     3  18837     11     17   \n",
       "3        21885    NC      M  AAA1095  401  413.0     7  14014      1     74   \n",
       "4       190108    FL      F      995  252  348.0     0  17991      5      6   \n",
       "...        ...   ...    ...      ...  ...    ...   ...    ...    ...    ...   \n",
       "1002    114721    OK    NaN     1040  472  656.0     0  26962      2     56   \n",
       "1003    149152    CA      M     4507  842  962.0    95  54642     17     50   \n",
       "1004       959    IA      F      586  349  465.0     1  15304      1     77   \n",
       "1005    179563    WA   male      842  420  494.0     2  12894     41     24   \n",
       "1006     41243    FL      F      556  246  330.0     0  10272      2     56   \n",
       "\n",
       "         IC2  IC3    AVGGIFT  \n",
       "0      430.0  466  28.000000  \n",
       "1      415.0  410   5.666667  \n",
       "2      340.0  361   4.111111  \n",
       "3      407.0  399  27.277778  \n",
       "4      280.0  316   6.000000  \n",
       "...      ...  ...        ...  \n",
       "1002   609.0  579  11.666667  \n",
       "1003  1004.0  893  20.000000  \n",
       "1004   413.0  404   7.300000  \n",
       "1005   419.0  476  16.400000  \n",
       "1006   277.0  292   9.818182  \n",
       "\n",
       "[1007 rows x 13 columns]"
      ]
     },
     "execution_count": 11,
     "metadata": {},
     "output_type": "execute_result"
    }
   ],
   "source": [
    "df1"
   ]
  },
  {
   "cell_type": "code",
   "execution_count": 5,
   "metadata": {},
   "outputs": [],
   "source": [
    "df2 = pd.read_excel(\"file1.xlsx\", engine='openpyxl')\n",
    "df2 = df2.loc[:, ~df2.columns.str.contains('^Unnamed')]"
   ]
  },
  {
   "cell_type": "code",
   "execution_count": 6,
   "metadata": {},
   "outputs": [],
   "source": [
    "df3 = pd.read_excel(\"file1.xlsx\", engine='openpyxl')\n",
    "df3 = df3.loc[:, ~df3.columns.str.contains('^Unnamed')]"
   ]
  },
  {
   "cell_type": "code",
   "execution_count": 7,
   "metadata": {},
   "outputs": [],
   "source": [
    "df4 = pd.read_excel(\"file1.xlsx\", engine='openpyxl')\n",
    "df4 = df4.loc[:, ~df4.columns.str.contains('^Unnamed')]"
   ]
  },
  {
   "cell_type": "markdown",
   "metadata": {},
   "source": [
    "**Unimos (concat) los dataframes verticalmente:**"
   ]
  },
  {
   "cell_type": "code",
   "execution_count": 8,
   "metadata": {},
   "outputs": [],
   "source": [
    "df = pd.concat([df1, df2, df3, df4], ignore_index=True)"
   ]
  },
  {
   "cell_type": "code",
   "execution_count": 10,
   "metadata": {},
   "outputs": [
    {
     "data": {
      "text/plain": [
       "4028"
      ]
     },
     "execution_count": 10,
     "metadata": {},
     "output_type": "execute_result"
    }
   ],
   "source": [
    "len(df)"
   ]
  },
  {
   "cell_type": "markdown",
   "metadata": {},
   "source": [
    "**Observación 1: Hay campos incompletos (aparecen como NaN en el dataframe)**"
   ]
  },
  {
   "cell_type": "markdown",
   "metadata": {},
   "source": [
    "Google search: pandas drop all rows with nan"
   ]
  },
  {
   "cell_type": "code",
   "execution_count": 32,
   "metadata": {},
   "outputs": [],
   "source": [
    "df = df.dropna()"
   ]
  },
  {
   "cell_type": "markdown",
   "metadata": {},
   "source": [
    "**Observación 2: Hay columnas que deberían ser numéricas y contienen caracteres**"
   ]
  },
  {
   "cell_type": "markdown",
   "metadata": {},
   "source": [
    "Google search: pandas drop all non numeric rows"
   ]
  },
  {
   "cell_type": "code",
   "execution_count": 33,
   "metadata": {},
   "outputs": [],
   "source": [
    "col_numericas = ['CONTROLN', 'HV1',  'IC1', 'IC4', 'HVP1', 'IC5', 'POBC1', 'POBC2', 'IC2', 'IC3', 'AVGGIFT']"
   ]
  },
  {
   "cell_type": "code",
   "execution_count": 39,
   "metadata": {},
   "outputs": [],
   "source": [
    "for col in col_numericas:\n",
    "    df = df[pd.to_numeric(df[col], errors='coerce').notnull()]"
   ]
  },
  {
   "cell_type": "markdown",
   "metadata": {},
   "source": [
    "**Observación 4: La columna STATE tiene representaciones múltiples de los estados de US**"
   ]
  },
  {
   "cell_type": "code",
   "execution_count": 42,
   "metadata": {},
   "outputs": [
    {
     "data": {
      "text/plain": [
       "array(['IL', 'FL', 'NC', 'TX', 'NV', 'CA', 'Cali', 'AP', 'IN', 'MT', 'WI',\n",
       "       'MO', 'HI', 'UT', 'GA', 'WA', 'ID', 'CT', 'AL', 'ND', 'SC', 'IA',\n",
       "       'CO', 'LA', 'OR', 'SD', 'TN', 'NM', 'AZ', 'MN', 'KY', 'OK', 'NJ',\n",
       "       'NE', 'MI', 'AR', 'KS', 'California', 'MS', 'NY', 'Arizona', 'WY',\n",
       "       'Tennessee'], dtype=object)"
      ]
     },
     "execution_count": 42,
     "metadata": {},
     "output_type": "execute_result"
    }
   ],
   "source": [
    "df['STATE'].unique()"
   ]
  },
  {
   "cell_type": "markdown",
   "metadata": {},
   "source": [
    "Vemos que hay filas que representan los estados ['CA','AZ', 'TN'] como [California, Arizona, Tennessee]\n",
    "\n",
    "Abreviaremos esas ocurrencias para darle integridad al dataset:"
   ]
  },
  {
   "cell_type": "code",
   "execution_count": 43,
   "metadata": {},
   "outputs": [],
   "source": [
    "df['STATE'] = df['STATE'].str.replace('California','CA')\n",
    "df['STATE'] = df['STATE'].str.replace('Cali','CA')\n",
    "df['STATE'] = df['STATE'].str.replace('Arizona','AZ')\n",
    "df['STATE'] = df['STATE'].str.replace('Tennessee','TN')"
   ]
  },
  {
   "cell_type": "code",
   "execution_count": 45,
   "metadata": {},
   "outputs": [
    {
     "data": {
      "text/plain": [
       "array(['IL', 'FL', 'NC', 'TX', 'NV', 'CA', 'AP', 'IN', 'MT', 'WI', 'MO',\n",
       "       'HI', 'UT', 'GA', 'WA', 'ID', 'CT', 'AL', 'ND', 'SC', 'IA', 'CO',\n",
       "       'LA', 'OR', 'SD', 'TN', 'NM', 'AZ', 'MN', 'KY', 'OK', 'NJ', 'NE',\n",
       "       'MI', 'AR', 'KS', 'MS', 'NY', 'WY'], dtype=object)"
      ]
     },
     "execution_count": 45,
     "metadata": {},
     "output_type": "execute_result"
    }
   ],
   "source": [
    "df['STATE'].unique()"
   ]
  },
  {
   "cell_type": "markdown",
   "metadata": {},
   "source": [
    "### **Ejercicio: Limpiar el dataset para hacer el join vlookup_table.csv**"
   ]
  },
  {
   "cell_type": "markdown",
   "metadata": {},
   "source": [
    "Nos informan que tenemos otra archivo que contiene información adicional vlookup_table.csv"
   ]
  },
  {
   "cell_type": "code",
   "execution_count": 52,
   "metadata": {},
   "outputs": [],
   "source": [
    "df_lookup = pd.read_csv('vlookup_table.csv')"
   ]
  },
  {
   "cell_type": "code",
   "execution_count": 61,
   "metadata": {},
   "outputs": [],
   "source": [
    "## nos cargamos los NaN\n",
    "df_lookup = df_lookup.dropna() \n",
    "\n",
    "## Nos cargamos las columnas numéricas que contienen strings o otros datos:\n",
    "col_numericas = ['TCODE', 'DOB',  'CONTROLN', 'TARGET_D']\n",
    "for col in col_numericas:\n",
    "    df_lookup = df_lookup[pd.to_numeric(df_lookup[col], errors='coerce').notnull()]\n",
    "\n",
    "## Comprovamos integridad de la columna DOMAIN:\n",
    "df_lookup['DOMAIN'].unique()\n",
    "\n",
    "## Comprovamos integridad de la columna GENDER:\n",
    "df_lookup['GENDER'].unique()\n",
    "\n",
    "# Nos cargamos los GENDER que no sabemos que significan U y J:\n",
    "df_lookup = df_lookup[df_lookup[\"GENDER\"].str.contains(\"U|J\")==False]\n"
   ]
  },
  {
   "cell_type": "markdown",
   "metadata": {},
   "source": [
    "### Ahora queremos calcular la edad a partir de la columna Date of Bird (DOB)"
   ]
  },
  {
   "cell_type": "code",
   "execution_count": 133,
   "metadata": {},
   "outputs": [
    {
     "data": {
      "text/plain": [
       "0     1901\n",
       "2     2501\n",
       "3     2208\n",
       "5     6104\n",
       "6     4407\n",
       "8     1801\n",
       "10    5401\n",
       "11    3401\n",
       "12    2801\n",
       "14    2405\n",
       "16    2701\n",
       "17    6501\n",
       "18    2301\n",
       "20    5107\n",
       "24    4304\n",
       "26    4406\n",
       "27    6105\n",
       "28    2401\n",
       "30    2401\n",
       "32    4806\n",
       "Name: DOB, dtype: int64"
      ]
     },
     "execution_count": 133,
     "metadata": {},
     "output_type": "execute_result"
    }
   ],
   "source": [
    "df_lookup['DOB'].head(20) "
   ]
  },
  {
   "cell_type": "code",
   "execution_count": 103,
   "metadata": {},
   "outputs": [],
   "source": [
    "df_lookup['DOB_pd'] = pd.to_datetime(df_lookup['DOB'], format='%d%m%y', errors='coerce')"
   ]
  },
  {
   "cell_type": "code",
   "execution_count": 105,
   "metadata": {},
   "outputs": [],
   "source": [
    "df_lookup = df_lookup[~df_lookup['DOB_pd'].isna()]"
   ]
  },
  {
   "cell_type": "code",
   "execution_count": 106,
   "metadata": {},
   "outputs": [],
   "source": [
    "today = pd.to_datetime('today')"
   ]
  },
  {
   "cell_type": "code",
   "execution_count": 107,
   "metadata": {},
   "outputs": [
    {
     "data": {
      "text/plain": [
       "Timestamp('2022-09-20 14:19:46.583681')"
      ]
     },
     "execution_count": 107,
     "metadata": {},
     "output_type": "execute_result"
    }
   ],
   "source": [
    "today"
   ]
  },
  {
   "cell_type": "code",
   "execution_count": 116,
   "metadata": {},
   "outputs": [
    {
     "name": "stderr",
     "output_type": "stream",
     "text": [
      "C:\\Users\\JosepCarreras\\anaconda3\\envs\\moto\\lib\\site-packages\\pandas\\core\\indexing.py:1745: SettingWithCopyWarning: \n",
      "A value is trying to be set on a copy of a slice from a DataFrame.\n",
      "Try using .loc[row_indexer,col_indexer] = value instead\n",
      "\n",
      "See the caveats in the documentation: https://pandas.pydata.org/pandas-docs/stable/user_guide/indexing.html#returning-a-view-versus-a-copy\n",
      "  isetter(ilocs[0], value)\n"
     ]
    }
   ],
   "source": [
    "df_lookup.loc[:, 'AGE'] = (today-df_lookup['DOB_pd']).astype('timedelta64[Y]').astype(int)"
   ]
  },
  {
   "cell_type": "code",
   "execution_count": 123,
   "metadata": {},
   "outputs": [
    {
     "data": {
      "text/html": [
       "<div>\n",
       "<style scoped>\n",
       "    .dataframe tbody tr th:only-of-type {\n",
       "        vertical-align: middle;\n",
       "    }\n",
       "\n",
       "    .dataframe tbody tr th {\n",
       "        vertical-align: top;\n",
       "    }\n",
       "\n",
       "    .dataframe thead th {\n",
       "        text-align: right;\n",
       "    }\n",
       "</style>\n",
       "<table border=\"1\" class=\"dataframe\">\n",
       "  <thead>\n",
       "    <tr style=\"text-align: right;\">\n",
       "      <th></th>\n",
       "      <th>TCODE</th>\n",
       "      <th>STATE</th>\n",
       "      <th>DOB</th>\n",
       "      <th>DOMAIN</th>\n",
       "      <th>GENDER</th>\n",
       "      <th>CONTROLN</th>\n",
       "      <th>TARGET_D</th>\n",
       "      <th>DOB_pd</th>\n",
       "      <th>AGE</th>\n",
       "    </tr>\n",
       "  </thead>\n",
       "  <tbody>\n",
       "    <tr>\n",
       "      <th>0</th>\n",
       "      <td>1</td>\n",
       "      <td>FL</td>\n",
       "      <td>1901</td>\n",
       "      <td>C2</td>\n",
       "      <td>M</td>\n",
       "      <td>44060</td>\n",
       "      <td>100.0</td>\n",
       "      <td>2001-09-01</td>\n",
       "      <td>21</td>\n",
       "    </tr>\n",
       "    <tr>\n",
       "      <th>2</th>\n",
       "      <td>0</td>\n",
       "      <td>FL</td>\n",
       "      <td>2501</td>\n",
       "      <td>C2</td>\n",
       "      <td>F</td>\n",
       "      <td>43333</td>\n",
       "      <td>5.0</td>\n",
       "      <td>2001-05-02</td>\n",
       "      <td>21</td>\n",
       "    </tr>\n",
       "    <tr>\n",
       "      <th>3</th>\n",
       "      <td>0</td>\n",
       "      <td>NC</td>\n",
       "      <td>2208</td>\n",
       "      <td>T2</td>\n",
       "      <td>M</td>\n",
       "      <td>21885</td>\n",
       "      <td>38.0</td>\n",
       "      <td>2008-02-02</td>\n",
       "      <td>14</td>\n",
       "    </tr>\n",
       "    <tr>\n",
       "      <th>5</th>\n",
       "      <td>1</td>\n",
       "      <td>IL</td>\n",
       "      <td>6104</td>\n",
       "      <td>S2</td>\n",
       "      <td>M</td>\n",
       "      <td>100640</td>\n",
       "      <td>30.0</td>\n",
       "      <td>2004-01-06</td>\n",
       "      <td>18</td>\n",
       "    </tr>\n",
       "    <tr>\n",
       "      <th>6</th>\n",
       "      <td>0</td>\n",
       "      <td>NC</td>\n",
       "      <td>4407</td>\n",
       "      <td>R2</td>\n",
       "      <td>F</td>\n",
       "      <td>18581</td>\n",
       "      <td>12.0</td>\n",
       "      <td>2007-04-04</td>\n",
       "      <td>15</td>\n",
       "    </tr>\n",
       "    <tr>\n",
       "      <th>...</th>\n",
       "      <td>...</td>\n",
       "      <td>...</td>\n",
       "      <td>...</td>\n",
       "      <td>...</td>\n",
       "      <td>...</td>\n",
       "      <td>...</td>\n",
       "      <td>...</td>\n",
       "      <td>...</td>\n",
       "      <td>...</td>\n",
       "    </tr>\n",
       "    <tr>\n",
       "      <th>3992</th>\n",
       "      <td>0</td>\n",
       "      <td>TX</td>\n",
       "      <td>4105</td>\n",
       "      <td>U1</td>\n",
       "      <td>F</td>\n",
       "      <td>117326</td>\n",
       "      <td>10.0</td>\n",
       "      <td>2005-01-04</td>\n",
       "      <td>17</td>\n",
       "    </tr>\n",
       "    <tr>\n",
       "      <th>3993</th>\n",
       "      <td>1</td>\n",
       "      <td>MI</td>\n",
       "      <td>3312</td>\n",
       "      <td>T1</td>\n",
       "      <td>M</td>\n",
       "      <td>68618</td>\n",
       "      <td>40.0</td>\n",
       "      <td>2012-03-03</td>\n",
       "      <td>10</td>\n",
       "    </tr>\n",
       "    <tr>\n",
       "      <th>3994</th>\n",
       "      <td>1</td>\n",
       "      <td>CA</td>\n",
       "      <td>4711</td>\n",
       "      <td>C3</td>\n",
       "      <td>M</td>\n",
       "      <td>1646</td>\n",
       "      <td>10.0</td>\n",
       "      <td>2011-07-04</td>\n",
       "      <td>11</td>\n",
       "    </tr>\n",
       "    <tr>\n",
       "      <th>3996</th>\n",
       "      <td>1</td>\n",
       "      <td>FL</td>\n",
       "      <td>2501</td>\n",
       "      <td>T2</td>\n",
       "      <td>M</td>\n",
       "      <td>6443</td>\n",
       "      <td>20.0</td>\n",
       "      <td>2001-05-02</td>\n",
       "      <td>21</td>\n",
       "    </tr>\n",
       "    <tr>\n",
       "      <th>3998</th>\n",
       "      <td>1</td>\n",
       "      <td>CA</td>\n",
       "      <td>4401</td>\n",
       "      <td>S1</td>\n",
       "      <td>M</td>\n",
       "      <td>151504</td>\n",
       "      <td>21.0</td>\n",
       "      <td>2001-04-04</td>\n",
       "      <td>21</td>\n",
       "    </tr>\n",
       "  </tbody>\n",
       "</table>\n",
       "<p>2442 rows × 9 columns</p>\n",
       "</div>"
      ],
      "text/plain": [
       "      TCODE STATE   DOB DOMAIN GENDER  CONTROLN  TARGET_D     DOB_pd  AGE\n",
       "0         1    FL  1901     C2      M     44060     100.0 2001-09-01   21\n",
       "2         0    FL  2501     C2      F     43333       5.0 2001-05-02   21\n",
       "3         0    NC  2208     T2      M     21885      38.0 2008-02-02   14\n",
       "5         1    IL  6104     S2      M    100640      30.0 2004-01-06   18\n",
       "6         0    NC  4407     R2      F     18581      12.0 2007-04-04   15\n",
       "...     ...   ...   ...    ...    ...       ...       ...        ...  ...\n",
       "3992      0    TX  4105     U1      F    117326      10.0 2005-01-04   17\n",
       "3993      1    MI  3312     T1      M     68618      40.0 2012-03-03   10\n",
       "3994      1    CA  4711     C3      M      1646      10.0 2011-07-04   11\n",
       "3996      1    FL  2501     T2      M      6443      20.0 2001-05-02   21\n",
       "3998      1    CA  4401     S1      M    151504      21.0 2001-04-04   21\n",
       "\n",
       "[2442 rows x 9 columns]"
      ]
     },
     "execution_count": 123,
     "metadata": {},
     "output_type": "execute_result"
    }
   ],
   "source": [
    "df_lookup"
   ]
  },
  {
   "cell_type": "markdown",
   "metadata": {},
   "source": [
    "### JOIN de las tablas"
   ]
  },
  {
   "cell_type": "code",
   "execution_count": 124,
   "metadata": {},
   "outputs": [],
   "source": [
    "df_lookup_join = df_lookup[['CONTROLN', 'AGE', 'TARGET_D']]"
   ]
  },
  {
   "cell_type": "code",
   "execution_count": 131,
   "metadata": {},
   "outputs": [],
   "source": [
    "df_final = df.merge(df_lookup_join, left_on='CONTROLN', right_on='CONTROLN', how='inner')"
   ]
  },
  {
   "cell_type": "code",
   "execution_count": 15,
   "metadata": {},
   "outputs": [],
   "source": [
    "import os"
   ]
  },
  {
   "cell_type": "code",
   "execution_count": 17,
   "metadata": {},
   "outputs": [
    {
     "name": "stdout",
     "output_type": "stream",
     "text": [
      "C:\\Users\\JosepCarreras\\ironhack\\u1d2\\data_case_study_1\n"
     ]
    }
   ],
   "source": [
    "print(os.getcwd())"
   ]
  },
  {
   "cell_type": "code",
   "execution_count": null,
   "metadata": {},
   "outputs": [],
   "source": []
  }
 ],
 "metadata": {
  "kernelspec": {
   "display_name": "Python 3",
   "language": "python",
   "name": "python3"
  },
  "language_info": {
   "codemirror_mode": {
    "name": "ipython",
    "version": 3
   },
   "file_extension": ".py",
   "mimetype": "text/x-python",
   "name": "python",
   "nbconvert_exporter": "python",
   "pygments_lexer": "ipython3",
   "version": "3.7.0"
  }
 },
 "nbformat": 4,
 "nbformat_minor": 5
}
